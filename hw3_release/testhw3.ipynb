{
 "metadata": {
  "name": "",
  "signature": "sha256:2d0337660d0c7f3ec5964d58fd97ca7b9ce6fd910e815733f4ffa515949af0fe"
 },
 "nbformat": 3,
 "nbformat_minor": 0,
 "worksheets": [
  {
   "cells": [
    {
     "cell_type": "code",
     "collapsed": false,
     "input": [
      "import numpy as np\n",
      "from skimage import filters\n",
      "from skimage.feature import corner_peaks\n",
      "import matplotlib.pyplot as plt\n",
      "from time import time\n",
      "\n",
      "%matplotlib inline\n",
      "plt.rcParams['figure.figsize'] = (15.0,12.0)\n",
      "plt.rcParams['image.interpolation'] = 'nearest'\n",
      "plt.rcParams['image.cmap'] = 'gray'\n",
      "\n",
      "%load_ext autoreload\n",
      "%autoreload 2"
     ],
     "language": "python",
     "metadata": {},
     "outputs": [],
     "prompt_number": 1
    },
    {
     "cell_type": "code",
     "collapsed": false,
     "input": [
      "def harris_corners(img, window_size=3, k=0.04):\n",
      "    H, W = img.shape\n",
      "    window = np.zeros((window_size,window_size))\n",
      "    response = np.zeros((H,W))\n",
      "    \n",
      "    dx = filters.sobel_v(img)\n",
      "    dy = filters.sobel_h(img)\n",
      "    \n",
      "    sigma = 1\n",
      "    for i in range(window_size):\n",
      "        for j in range(window_size):\n",
      "            window[i][j] = 1.0/(2*np.pi*np.power(sigma,2))*(np.exp(-1*(np.power(i-size/2,2)+np.power(j-size/2,2))/(2*np.power(sigma,2))))\n",
      "    "
     ],
     "language": "python",
     "metadata": {},
     "outputs": []
    }
   ],
   "metadata": {}
  }
 ]
}