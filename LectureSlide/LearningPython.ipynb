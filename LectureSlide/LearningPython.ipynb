{
 "metadata": {
  "name": "",
  "signature": "sha256:ca78f3676b357f17462464dad24f6829f1f40c526705e3f1f5a978db22b8fec3"
 },
 "nbformat": 3,
 "nbformat_minor": 0,
 "worksheets": [
  {
   "cells": [
    {
     "cell_type": "code",
     "collapsed": false,
     "input": [
      "def quicksort(arr):\n",
      "    if len(arr) <= 1:\n",
      "        return arr\n",
      "    pivot = arr[len(arr)/2]\n",
      "    left = [x for x in arr if x<pivot]\n",
      "    mid = [x for x in arr if x==pivot]\n",
      "    right = [x for x in arr if x>pivot]\n",
      "    return quicksort(left) + mid + quicksort(right)"
     ],
     "language": "python",
     "metadata": {},
     "outputs": [],
     "prompt_number": 13
    },
    {
     "cell_type": "code",
     "collapsed": false,
     "input": [
      "def fib(n):\n",
      "    if n<=1:\n",
      "        return 1\n",
      "    return fib(n-1) + fib(n-2)\n",
      "\n",
      "for i in range(5):\n",
      "    print(fib(i))"
     ],
     "language": "python",
     "metadata": {},
     "outputs": [
      {
       "output_type": "stream",
       "stream": "stdout",
       "text": [
        "1\n",
        "1\n",
        "2\n",
        "3\n",
        "5\n"
       ]
      }
     ],
     "prompt_number": 27
    },
    {
     "cell_type": "code",
     "collapsed": false,
     "input": [],
     "language": "python",
     "metadata": {},
     "outputs": []
    }
   ],
   "metadata": {}
  }
 ]
}